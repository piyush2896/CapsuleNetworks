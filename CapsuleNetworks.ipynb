{
 "cells": [
  {
   "cell_type": "code",
   "execution_count": 1,
   "metadata": {},
   "outputs": [
    {
     "name": "stdout",
     "output_type": "stream",
     "text": [
      "WARNING:tensorflow:From P:\\Piyush\\Machine Learning\\CapsuleNet\\utils.py:57: read_data_sets (from tensorflow.contrib.learn.python.learn.datasets.mnist) is deprecated and will be removed in a future version.\n",
      "Instructions for updating:\n",
      "Please use alternatives such as official/mnist/dataset.py from tensorflow/models.\n",
      "WARNING:tensorflow:From c:\\users\\piyush\\appdata\\local\\programs\\python\\python35\\lib\\site-packages\\tensorflow\\contrib\\learn\\python\\learn\\datasets\\mnist.py:260: maybe_download (from tensorflow.contrib.learn.python.learn.datasets.base) is deprecated and will be removed in a future version.\n",
      "Instructions for updating:\n",
      "Please write your own downloading logic.\n",
      "WARNING:tensorflow:From c:\\users\\piyush\\appdata\\local\\programs\\python\\python35\\lib\\site-packages\\tensorflow\\contrib\\learn\\python\\learn\\datasets\\mnist.py:262: extract_images (from tensorflow.contrib.learn.python.learn.datasets.mnist) is deprecated and will be removed in a future version.\n",
      "Instructions for updating:\n",
      "Please use tf.data to implement this functionality.\n",
      "Extracting ./mnist\\train-images-idx3-ubyte.gz\n",
      "WARNING:tensorflow:From c:\\users\\piyush\\appdata\\local\\programs\\python\\python35\\lib\\site-packages\\tensorflow\\contrib\\learn\\python\\learn\\datasets\\mnist.py:267: extract_labels (from tensorflow.contrib.learn.python.learn.datasets.mnist) is deprecated and will be removed in a future version.\n",
      "Instructions for updating:\n",
      "Please use tf.data to implement this functionality.\n",
      "Extracting ./mnist\\train-labels-idx1-ubyte.gz\n",
      "Extracting ./mnist\\t10k-images-idx3-ubyte.gz\n",
      "Extracting ./mnist\\t10k-labels-idx1-ubyte.gz\n",
      "WARNING:tensorflow:From c:\\users\\piyush\\appdata\\local\\programs\\python\\python35\\lib\\site-packages\\tensorflow\\contrib\\learn\\python\\learn\\datasets\\mnist.py:290: DataSet.__init__ (from tensorflow.contrib.learn.python.learn.datasets.mnist) is deprecated and will be removed in a future version.\n",
      "Instructions for updating:\n",
      "Please use alternatives such as official/mnist/dataset.py from tensorflow/models.\n"
     ]
    }
   ],
   "source": [
    "from data import train_input_func, eval_input_fn, predict_input_fn\n",
    "from capsule_net import model_fn\n",
    "import tensorflow as tf"
   ]
  },
  {
   "cell_type": "markdown",
   "metadata": {},
   "source": [
    "## Defining Model\n",
    "Defining the estimator for Capsule Net. Here:\n",
    "- alpha: represents the scaling factor of Reconstruction loss so that Margin loss dominates\n",
    "- m_plus: is the $m^+$ value of Margin loss\n",
    "- m_minus: is the $m_{-}$ value of Margin loss\n",
    "- rounds: are the number of Routing by Agreement algorithm rounds"
   ]
  },
  {
   "cell_type": "code",
   "execution_count": 2,
   "metadata": {},
   "outputs": [
    {
     "name": "stdout",
     "output_type": "stream",
     "text": [
      "INFO:tensorflow:Using default config.\n",
      "INFO:tensorflow:Using config: {'_model_dir': './caps2ra', '_log_step_count_steps': 100, '_session_config': None, '_master': '', '_train_distribute': None, '_save_checkpoints_steps': None, '_num_worker_replicas': 1, '_service': None, '_save_summary_steps': 100, '_task_id': 0, '_keep_checkpoint_every_n_hours': 10000, '_num_ps_replicas': 0, '_save_checkpoints_secs': 600, '_evaluation_master': '', '_task_type': 'worker', '_is_chief': True, '_cluster_spec': <tensorflow.python.training.server_lib.ClusterSpec object at 0x000002A6994F1470>, '_tf_random_seed': None, '_global_id_in_cluster': 0, '_keep_checkpoint_max': 5}\n"
     ]
    }
   ],
   "source": [
    "mnist_caps_net = tf.estimator.Estimator(model_fn=model_fn,\n",
    "                                        params={\n",
    "                                            'alpha': 0.0005,\n",
    "                                            'm_plus': 0.9,\n",
    "                                            'm_minus': 0.1,\n",
    "                                            'rounds': 2\n",
    "                                        },\n",
    "                                        model_dir='./caps2ra')"
   ]
  },
  {
   "cell_type": "markdown",
   "metadata": {},
   "source": [
    "## Training the model\n",
    "The model is trained for 4000 steps (batches) each of size 32. Given that MNIST have 60000 training images. So,\n",
    "\n",
    "$$Epochs = \\dfrac{4000}{\\frac{60000}{32}} = \\dfrac{4000}{1875} = 2.133$$"
   ]
  },
  {
   "cell_type": "code",
   "execution_count": 3,
   "metadata": {},
   "outputs": [
    {
     "name": "stdout",
     "output_type": "stream",
     "text": [
      "INFO:tensorflow:Calling model_fn.\n",
      "INFO:tensorflow:Done calling model_fn.\n",
      "INFO:tensorflow:Create CheckpointSaverHook.\n",
      "INFO:tensorflow:Graph was finalized.\n",
      "INFO:tensorflow:Running local_init_op.\n",
      "INFO:tensorflow:Done running local_init_op.\n",
      "INFO:tensorflow:Saving checkpoints for 1 into ./caps2ra\\model.ckpt.\n",
      "INFO:tensorflow:loss = 0.809473, step = 0\n",
      "INFO:tensorflow:global_step/sec: 0.88728\n",
      "INFO:tensorflow:loss = 0.0593823, step = 100 (112.780 sec)\n",
      "INFO:tensorflow:global_step/sec: 0.975555\n",
      "INFO:tensorflow:loss = 0.0274678, step = 200 (102.434 sec)\n",
      "INFO:tensorflow:global_step/sec: 0.666101\n",
      "INFO:tensorflow:loss = 0.025879, step = 300 (150.219 sec)\n",
      "INFO:tensorflow:global_step/sec: 0.65105\n",
      "INFO:tensorflow:loss = 0.0151074, step = 400 (153.590 sec)\n",
      "INFO:tensorflow:Saving checkpoints for 463 into ./caps2ra\\model.ckpt.\n",
      "INFO:tensorflow:global_step/sec: 0.784998\n",
      "INFO:tensorflow:loss = 0.015997, step = 500 (127.348 sec)\n",
      "INFO:tensorflow:global_step/sec: 0.854247\n",
      "INFO:tensorflow:loss = 0.0167206, step = 600 (117.021 sec)\n",
      "INFO:tensorflow:global_step/sec: 0.856859\n",
      "INFO:tensorflow:loss = 0.0178165, step = 700 (116.739 sec)\n",
      "INFO:tensorflow:global_step/sec: 0.873883\n",
      "INFO:tensorflow:loss = 0.00872501, step = 800 (114.399 sec)\n",
      "INFO:tensorflow:global_step/sec: 0.838815\n",
      "INFO:tensorflow:loss = 0.0132564, step = 900 (119.263 sec)\n",
      "INFO:tensorflow:Saving checkpoints for 963 into ./caps2ra\\model.ckpt.\n",
      "INFO:tensorflow:global_step/sec: 0.768596\n",
      "INFO:tensorflow:loss = 0.0496436, step = 1000 (130.105 sec)\n",
      "INFO:tensorflow:global_step/sec: 0.873934\n",
      "INFO:tensorflow:loss = 0.00737147, step = 1100 (114.380 sec)\n",
      "INFO:tensorflow:global_step/sec: 0.866683\n",
      "INFO:tensorflow:loss = 0.0344296, step = 1200 (115.431 sec)\n",
      "INFO:tensorflow:global_step/sec: 0.840627\n",
      "INFO:tensorflow:loss = 0.018104, step = 1300 (118.910 sec)\n",
      "INFO:tensorflow:global_step/sec: 0.846234\n",
      "INFO:tensorflow:loss = 0.0429192, step = 1400 (118.196 sec)\n",
      "INFO:tensorflow:Saving checkpoints for 1473 into ./caps2ra\\model.ckpt.\n",
      "INFO:tensorflow:global_step/sec: 0.832754\n",
      "INFO:tensorflow:loss = 0.0341549, step = 1500 (120.104 sec)\n",
      "INFO:tensorflow:global_step/sec: 0.85359\n",
      "INFO:tensorflow:loss = 0.0318433, step = 1600 (117.106 sec)\n",
      "INFO:tensorflow:global_step/sec: 0.858954\n",
      "INFO:tensorflow:loss = 0.0277556, step = 1700 (116.471 sec)\n",
      "INFO:tensorflow:global_step/sec: 0.86735\n",
      "INFO:tensorflow:loss = 0.0137087, step = 1800 (115.243 sec)\n",
      "INFO:tensorflow:global_step/sec: 0.855213\n",
      "INFO:tensorflow:loss = 0.0134947, step = 1900 (117.029 sec)\n",
      "INFO:tensorflow:Saving checkpoints for 1986 into ./caps2ra\\model.ckpt.\n",
      "INFO:tensorflow:global_step/sec: 0.832756\n",
      "INFO:tensorflow:loss = 0.0293254, step = 2000 (120.015 sec)\n",
      "INFO:tensorflow:global_step/sec: 0.867709\n",
      "INFO:tensorflow:loss = 0.00492522, step = 2100 (115.214 sec)\n",
      "INFO:tensorflow:global_step/sec: 0.851296\n",
      "INFO:tensorflow:loss = 0.00632929, step = 2200 (117.506 sec)\n",
      "INFO:tensorflow:global_step/sec: 0.862557\n",
      "INFO:tensorflow:loss = 0.0169801, step = 2300 (115.898 sec)\n",
      "INFO:tensorflow:global_step/sec: 0.864769\n",
      "INFO:tensorflow:loss = 0.0264599, step = 2400 (115.673 sec)\n",
      "INFO:tensorflow:Saving checkpoints for 2498 into ./caps2ra\\model.ckpt.\n",
      "INFO:tensorflow:global_step/sec: 0.813499\n",
      "INFO:tensorflow:loss = 0.00972904, step = 2500 (122.929 sec)\n",
      "INFO:tensorflow:global_step/sec: 0.86793\n",
      "INFO:tensorflow:loss = 0.0192419, step = 2600 (115.177 sec)\n",
      "INFO:tensorflow:global_step/sec: 0.862117\n",
      "INFO:tensorflow:loss = 0.0056907, step = 2700 (116.066 sec)\n",
      "INFO:tensorflow:global_step/sec: 0.869882\n",
      "INFO:tensorflow:loss = 0.0040535, step = 2800 (114.886 sec)\n",
      "INFO:tensorflow:global_step/sec: 0.865405\n",
      "INFO:tensorflow:loss = 0.0113016, step = 2900 (115.600 sec)\n",
      "INFO:tensorflow:global_step/sec: 0.867198\n",
      "INFO:tensorflow:loss = 0.00391375, step = 3000 (115.267 sec)\n",
      "INFO:tensorflow:Saving checkpoints for 3014 into ./caps2ra\\model.ckpt.\n",
      "INFO:tensorflow:global_step/sec: 0.843604\n",
      "INFO:tensorflow:loss = 0.00113097, step = 3100 (118.540 sec)\n",
      "INFO:tensorflow:global_step/sec: 0.857223\n",
      "INFO:tensorflow:loss = 0.0015322, step = 3200 (116.779 sec)\n",
      "INFO:tensorflow:global_step/sec: 0.79336\n",
      "INFO:tensorflow:loss = 0.00966301, step = 3300 (125.957 sec)\n",
      "INFO:tensorflow:global_step/sec: 0.727389\n",
      "INFO:tensorflow:loss = 0.00670822, step = 3400 (137.478 sec)\n",
      "INFO:tensorflow:global_step/sec: 0.879822\n",
      "INFO:tensorflow:loss = 0.00204802, step = 3500 (113.626 sec)\n",
      "INFO:tensorflow:Saving checkpoints for 3503 into ./caps2ra\\model.ckpt.\n",
      "INFO:tensorflow:global_step/sec: 0.871283\n",
      "INFO:tensorflow:loss = 0.00177185, step = 3600 (114.771 sec)\n",
      "INFO:tensorflow:global_step/sec: 0.878961\n",
      "INFO:tensorflow:loss = 0.000660655, step = 3700 (113.815 sec)\n",
      "INFO:tensorflow:global_step/sec: 0.826574\n",
      "INFO:tensorflow:loss = 0.0221219, step = 3800 (120.982 sec)\n",
      "INFO:tensorflow:global_step/sec: 0.85128\n",
      "INFO:tensorflow:loss = 0.00235123, step = 3900 (117.427 sec)\n",
      "INFO:tensorflow:Saving checkpoints for 4000 into ./caps2ra\\model.ckpt.\n",
      "INFO:tensorflow:Loss for final step: 0.00281392.\n"
     ]
    },
    {
     "data": {
      "text/plain": [
       "<tensorflow.python.estimator.estimator.Estimator at 0x1972b9aac50>"
      ]
     },
     "execution_count": 3,
     "metadata": {},
     "output_type": "execute_result"
    }
   ],
   "source": [
    "mnist_caps_net.train(input_fn=train_input_func, steps=4000)"
   ]
  },
  {
   "cell_type": "markdown",
   "metadata": {},
   "source": [
    "## Evaluating"
   ]
  },
  {
   "cell_type": "code",
   "execution_count": 3,
   "metadata": {},
   "outputs": [
    {
     "name": "stdout",
     "output_type": "stream",
     "text": [
      "INFO:tensorflow:Calling model_fn.\n",
      "INFO:tensorflow:Done calling model_fn.\n",
      "INFO:tensorflow:Starting evaluation at 2018-07-14-20:10:09\n",
      "INFO:tensorflow:Graph was finalized.\n",
      "INFO:tensorflow:Restoring parameters from ./caps2ra\\model.ckpt-4000\n",
      "INFO:tensorflow:Running local_init_op.\n",
      "INFO:tensorflow:Done running local_init_op.\n",
      "INFO:tensorflow:Finished evaluation at 2018-07-14-20:12:14\n",
      "INFO:tensorflow:Saving dict for global step 4000: global_step = 4000, loss = 0.00835403\n"
     ]
    },
    {
     "data": {
      "text/plain": [
       "{'global_step': 4000, 'loss': 0.0083540259}"
      ]
     },
     "execution_count": 3,
     "metadata": {},
     "output_type": "execute_result"
    }
   ],
   "source": [
    "eval_res = mnist_caps_net.evaluate(input_fn=eval_input_fn)\n",
    "\n",
    "eval_res"
   ]
  },
  {
   "cell_type": "markdown",
   "metadata": {},
   "source": [
    "#### Let's Display some Reconstructions of Decoder"
   ]
  },
  {
   "cell_type": "code",
   "execution_count": 3,
   "metadata": {},
   "outputs": [],
   "source": [
    "import matplotlib.pyplot as plt\n",
    "import numpy as np\n",
    "from data import pred_labels\n",
    "%matplotlib inline"
   ]
  },
  {
   "cell_type": "code",
   "execution_count": 4,
   "metadata": {},
   "outputs": [
    {
     "name": "stdout",
     "output_type": "stream",
     "text": [
      "INFO:tensorflow:Calling model_fn.\n",
      "INFO:tensorflow:Done calling model_fn.\n",
      "INFO:tensorflow:Graph was finalized.\n",
      "INFO:tensorflow:Restoring parameters from ./caps2ra\\model.ckpt-4000\n",
      "INFO:tensorflow:Running local_init_op.\n",
      "INFO:tensorflow:Done running local_init_op.\n"
     ]
    }
   ],
   "source": [
    "imgs = []\n",
    "\n",
    "preds = mnist_caps_net.predict(input_fn=predict_input_fn)\n",
    "\n",
    "for i in preds:\n",
    "    imgs.append(i['reconstruction'])"
   ]
  },
  {
   "cell_type": "code",
   "execution_count": 9,
   "metadata": {},
   "outputs": [
    {
     "data": {
      "image/png": "[encoded data removed]",
      "text/plain": [
       "<matplotlib.figure.Figure at 0x2a72e720c88>"
      ]
     },
     "metadata": {},
     "output_type": "display_data"
    }
   ],
   "source": [
    "imgs = np.asarray(imgs)\n",
    "\n",
    "indices = np.random.randint(pred_labels.shape[0], size=10)\n",
    "\n",
    "plt.figure(figsize=(15, 5))\n",
    "for i, index in enumerate(indices):\n",
    "    plt.subplot(2, 5, i+1)\n",
    "    plt.imshow(imgs[index].reshape(28, 28), cmap='binary')\n",
    "    plt.axis('off')\n",
    "    plt.title('Ground Truth:' + str(pred_labels[index]))\n",
    "plt.show()"
   ]
  }
 ],
 "metadata": {
  "kernelspec": {
   "display_name": "Python 3",
   "language": "python",
   "name": "python3"
  },
  "language_info": {
   "codemirror_mode": {
    "name": "ipython",
    "version": 3
   },
   "file_extension": ".py",
   "mimetype": "text/x-python",
   "name": "python",
   "nbconvert_exporter": "python",
   "pygments_lexer": "ipython3",
   "version": "3.5.1"
  }
 },
 "nbformat": 4,
 "nbformat_minor": 2
}
